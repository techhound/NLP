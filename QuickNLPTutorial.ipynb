{
  "nbformat": 4,
  "nbformat_minor": 0,
  "metadata": {
    "colab": {
      "name": "QuickNLPTutorial.ipynb",
      "provenance": [],
      "authorship_tag": "ABX9TyOTxvKxHfYn7ujkoXLAE3Q2",
      "include_colab_link": true
    },
    "kernelspec": {
      "name": "python3",
      "display_name": "Python 3"
    },
    "language_info": {
      "name": "python"
    }
  },
  "cells": [
    {
      "cell_type": "markdown",
      "metadata": {
        "id": "view-in-github",
        "colab_type": "text"
      },
      "source": [
        "<a href=\"https://colab.research.google.com/github/techhound/NLP/blob/main/QuickNLPTutorial.ipynb\" target=\"_parent\"><img src=\"https://colab.research.google.com/assets/colab-badge.svg\" alt=\"Open In Colab\"/></a>"
      ]
    },
    {
      "cell_type": "code",
      "metadata": {
        "id": "x0Bo6XZ4O9OK"
      },
      "source": [
        "import string"
      ],
      "execution_count": 1,
      "outputs": []
    },
    {
      "cell_type": "code",
      "metadata": {
        "id": "fkQxPL72PB9z"
      },
      "source": [
        "# stopwords are common words that usually create noise in NLP analysis.\n",
        "stopwords = ['a','in','for','and','or','between','to','too', 'the', 'this']\n",
        "\n",
        "# used to match words, which will add to the total of positive words\n",
        "positivewords = ['good','happy','nice','clean','fast','income','revenue','learn','quickly','help']\n",
        "\n",
        "# used to match words, which will add to the total of negative words\n",
        "negativewords = ['bad','sad','mean','nasty','slow','dirty','taxes','expenses','difficult','not']"
      ],
      "execution_count": 2,
      "outputs": []
    },
    {
      "cell_type": "code",
      "metadata": {
        "id": "suzKyLFNPHhU"
      },
      "source": [
        "text = \"\"\"This is a fast experiment to see how quickly I can help you to learn NLP in Python. \n",
        "I do not want you to be sad thinking it is too difficult to learn.\"\"\""
      ],
      "execution_count": 3,
      "outputs": []
    },
    {
      "cell_type": "code",
      "metadata": {
        "id": "nNTNorO-PKH8"
      },
      "source": [
        "splittext = text.split('.') # remove the periods (note that .split() returns a list)\n",
        "splittext = ''.join(splittext).split() # convert list to string and then remove whitespace using .split()"
      ],
      "execution_count": 4,
      "outputs": []
    },
    {
      "cell_type": "code",
      "metadata": {
        "id": "gm0rAGk6PN8v"
      },
      "source": [
        "lower_text = [w.lower() for w in splittext]\n",
        "cleaned_text = [w for w in lower_text if w not in stopwords]"
      ],
      "execution_count": 5,
      "outputs": []
    },
    {
      "cell_type": "code",
      "metadata": {
        "id": "onrqujKHPRDp"
      },
      "source": [
        "positive = [w for w in cleaned_text if w in positivewords]"
      ],
      "execution_count": 6,
      "outputs": []
    },
    {
      "cell_type": "code",
      "metadata": {
        "id": "UmBcGJaWPTio"
      },
      "source": [
        "negative = [w for w in cleaned_text if w in negativewords]"
      ],
      "execution_count": 7,
      "outputs": []
    },
    {
      "cell_type": "code",
      "metadata": {
        "id": "JSY6GF_WPWbG"
      },
      "source": [
        "sentiment = (len(positive)-len(negative)) / (len(positive) + len(negative))"
      ],
      "execution_count": 8,
      "outputs": []
    },
    {
      "cell_type": "code",
      "metadata": {
        "colab": {
          "base_uri": "https://localhost:8080/"
        },
        "id": "G0ZzFkrFPYsi",
        "outputId": "c3342719-68d5-49bd-f6a1-cd27a4d9594d"
      },
      "source": [
        "sentiment"
      ],
      "execution_count": 9,
      "outputs": [
        {
          "output_type": "execute_result",
          "data": {
            "text/plain": [
              "0.25"
            ]
          },
          "metadata": {
            "tags": []
          },
          "execution_count": 9
        }
      ]
    }
  ]
}